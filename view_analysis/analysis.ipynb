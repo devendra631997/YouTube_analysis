{
 "cells": [
  {
   "cell_type": "code",
   "execution_count": 1,
   "metadata": {},
   "outputs": [
    {
     "name": "stdout",
     "output_type": "stream",
     "text": [
      "Requirement already satisfied: pyspark in /Users/devendrakumarsingh/Documents/code/youtube_analysis/venv/lib/python3.10/site-packages (3.5.2)\n",
      "Requirement already satisfied: py4j==0.10.9.7 in /Users/devendrakumarsingh/Documents/code/youtube_analysis/venv/lib/python3.10/site-packages (from pyspark) (0.10.9.7)\n",
      "\n",
      "\u001b[1m[\u001b[0m\u001b[34;49mnotice\u001b[0m\u001b[1;39;49m]\u001b[0m\u001b[39;49m A new release of pip available: \u001b[0m\u001b[31;49m22.3.1\u001b[0m\u001b[39;49m -> \u001b[0m\u001b[32;49m24.2\u001b[0m\n",
      "\u001b[1m[\u001b[0m\u001b[34;49mnotice\u001b[0m\u001b[1;39;49m]\u001b[0m\u001b[39;49m To update, run: \u001b[0m\u001b[32;49mpip install --upgrade pip\u001b[0m\n",
      "Note: you may need to restart the kernel to use updated packages.\n"
     ]
    }
   ],
   "source": [
    "#pip install pyspark"
   ]
  },
  {
   "cell_type": "code",
   "execution_count": 40,
   "metadata": {},
   "outputs": [],
   "source": [
    "\n",
    "from pyspark.sql import SparkSession\n",
    "from pyspark.sql.functions import udf,explode\n",
    "from pyspark.sql.functions import from_json, col, lit\n",
    "import os\n",
    "from pyspark.sql.types import StringType,BooleanType,DateType, IntegerType\n",
    "from dotenv import load_dotenv\n",
    "load_dotenv()\n",
    "spark=SparkSession.builder.appName(\"youTubeAnalysis\").getOrCreate()"
   ]
  },
  {
   "cell_type": "code",
   "execution_count": 36,
   "metadata": {},
   "outputs": [],
   "source": [
    "channel = spark.read.csv('/Users/devendrakumarsingh/Documents/code/youtube_analysis/sample-data/output_data/channel_id', header=True)"
   ]
  },
  {
   "cell_type": "code",
   "execution_count": 37,
   "metadata": {},
   "outputs": [
    {
     "name": "stdout",
     "output_type": "stream",
     "text": [
      "+---------+--------------------+--------------------+--------------+------------+--------+--------------------+-----------+-------------+-------+---------------+--------------------+--------------------+-----------------+-------------------+---------------------+---------------+----------+---------+\n",
      "|record_no|                etag|                kind|resultsPerPage|totalResults|isLinked|   longUploadsStatus|madeForKids|privacyStatus|country|defaultLanguage|         description|            keywords|            title|unsubscribedTrailer|hiddenSubscriberCount|subscriberCount|videoCount|viewCount|\n",
      "+---------+--------------------+--------------------+--------------+------------+--------+--------------------+-----------+-------------+-------+---------------+--------------------+--------------------+-----------------+-------------------+---------------------+---------------+----------+---------+\n",
      "|        0|Ikwv2KMUc_OMrmorf...|youtube#channelLi...|             5|           1|    True|longUploadsUnspec...|      False|       public|     SG|             en|Subscribe to ST’s...|\"\"\"singapore news...|The Straits Times|        AduJn9NrbvA|                False|         591000|     30489|374486509|\n",
      "+---------+--------------------+--------------------+--------------+------------+--------+--------------------+-----------+-------------+-------+---------------+--------------------+--------------------+-----------------+-------------------+---------------------+---------------+----------+---------+\n",
      "\n"
     ]
    }
   ],
   "source": [
    "channel.show()"
   ]
  },
  {
   "cell_type": "code",
   "execution_count": 50,
   "metadata": {},
   "outputs": [
    {
     "name": "stdout",
     "output_type": "stream",
     "text": [
      "+-----------------+---------------+\n",
      "|            title|subscriberCount|\n",
      "+-----------------+---------------+\n",
      "|The Straits Times|         591000|\n",
      "+-----------------+---------------+\n",
      "\n"
     ]
    }
   ],
   "source": [
    "# Q1. How many subscribers are there for each channel?\n",
    "channel.select( col('title'), col('subscriberCount')).show()"
   ]
  },
  {
   "cell_type": "code",
   "execution_count": 39,
   "metadata": {},
   "outputs": [
    {
     "name": "stdout",
     "output_type": "stream",
     "text": [
      "+----------+--------------------+\n",
      "|videoCount|                etag|\n",
      "+----------+--------------------+\n",
      "|     30489|Ikwv2KMUc_OMrmorf...|\n",
      "+----------+--------------------+\n",
      "\n"
     ]
    }
   ],
   "source": [
    "# Q2. How many video’s have been published for each channel?\n",
    "channel.select(col('videoCount'), col('etag')).show()"
   ]
  },
  {
   "cell_type": "code",
   "execution_count": 42,
   "metadata": {},
   "outputs": [],
   "source": [
    "video = spark.read.csv('/Users/devendrakumarsingh/Documents/code/youtube_analysis/sample-data/output_data/videos', header=True)\n",
    "video = video.withColumn(\"viewCount\",col(\"viewCount\").cast(IntegerType()))"
   ]
  },
  {
   "cell_type": "code",
   "execution_count": 43,
   "metadata": {},
   "outputs": [
    {
     "name": "stdout",
     "output_type": "stream",
     "text": [
      "+---------+--------------------+--------------------+-------------+-----------+-------+--------------------+----------+---------+--------+---------------+-----------+------------+-------------+---------+---------+\n",
      "|record_no|          channel_id|                etag|         kind|         id|caption|       contentRating|definition|dimension|duration|licensedContent| projection|commentCount|favoriteCount|likeCount|viewCount|\n",
      "+---------+--------------------+--------------------+-------------+-----------+-------+--------------------+----------+---------+--------+---------------+-----------+------------+-------------+---------+---------+\n",
      "|        0|UC4p_I9eiRewn2KoU...|nPAekVS182MGJymUd...|youtube#video|rwoJuT76nb8|  false|  Row(ytRating=None)|        sd|       2d| PT3M27S|           True|rectangular|        2571|            0|    15187|  3655419|\n",
      "|        1|UC4p_I9eiRewn2KoU...|6YRJPQyUn_71bhGyW...|youtube#video|wg1iNV6ZTGE|  false|  Row(ytRating=None)|        hd|       2d| PT6M19S|           True|rectangular|        5110|            0|    63022|  2759388|\n",
      "|        2|UC4p_I9eiRewn2KoU...|YXiMp-qwuLf-D_-m-...|youtube#video|8Tv3NSpnAP8|  false|  Row(ytRating=None)|        hd|       2d| PT1M49S|           True|rectangular|        1466|            0|     7576|  1332025|\n",
      "|        3|UC4p_I9eiRewn2KoU...|ofP65B0qImx2gYHZE...|youtube#video|PDW1DHnhaCM|  false|  Row(ytRating=None)|        hd|       2d|PT10M22S|           True|rectangular|         838|            0|    14591|   955167|\n",
      "|        4|UC4p_I9eiRewn2KoU...|z-MRpMQZE0C29X_sC...|youtube#video|Lh87Y4Xs6xs|  false|  Row(ytRating=None)|        hd|       2d|PT11M53S|           True|rectangular|        1048|            0|     1700|   792129|\n",
      "|        5|UC4p_I9eiRewn2KoU...|jZWNauPmi0tdVXbjJ...|youtube#video|F85nXuUXs8Y|  false|  Row(ytRating=None)|        hd|       2d|PT10M16S|           True|rectangular|        2456|            0|    11288|   549439|\n",
      "|        6|UC4p_I9eiRewn2KoU...|xZ3BmHtRmSAtHWKXi...|youtube#video|YSiRRMRhUSo|  false|  Row(ytRating=None)|        hd|       2d| PT4M51S|           True|rectangular|        1298|            0|     3754|   521267|\n",
      "|        7|UC4p_I9eiRewn2KoU...|exhB0mWX3j1O-XSHq...|youtube#video|57HBTpEn7KQ|  false|  Row(ytRating=None)|        hd|       2d| PT3M44S|           True|rectangular|           0|            0|        0|   458238|\n",
      "|        8|UC4p_I9eiRewn2KoU...|tycNQEIoWsittreiF...|youtube#video|pJ4eErqt768|  false|  Row(ytRating=None)|        hd|       2d| PT4M59S|           True|rectangular|         218|            0|     2860|   448399|\n",
      "|        9|UC4p_I9eiRewn2KoU...|u_1DmXqSk9sIVAPBP...|youtube#video|j7OMZfUOv_E|  false|Row(ytRating='ytA...|        hd|       2d| PT2M43S|           True|rectangular|         388|            0|     2854|   442181|\n",
      "|       10|UC4p_I9eiRewn2KoU...|DpkyXHTwe0hHX07GP...|youtube#video|uYmBk61rQWY|  false|  Row(ytRating=None)|        hd|       2d| PT3M54S|           True|rectangular|         700|            0|     1432|   433696|\n",
      "|       11|UC4p_I9eiRewn2KoU...|ym-GJSJrjyBtY76JX...|youtube#video|k4LMu7A9r_k|   true|  Row(ytRating=None)|        hd|       2d| PT8M34S|           True|rectangular|         206|            0|     5260|   411109|\n",
      "|       12|UC4p_I9eiRewn2KoU...|i-12cMwzRDkj9GBFT...|youtube#video|KudrTHRl1XI|  false|  Row(ytRating=None)|        sd|       2d|   PT24S|           True|rectangular|         365|            0|      331|   379375|\n",
      "|       13|UC4p_I9eiRewn2KoU...|-_kMbmfv6MUOMcwVD...|youtube#video|KH-bqeaP_gs|  false|  Row(ytRating=None)|        hd|       2d|   PT59S|           True|rectangular|         609|            0|     8514|   357334|\n",
      "|       14|UC4p_I9eiRewn2KoU...|fsOE5MsYbCpuRFQ-P...|youtube#video|C2NEV6lW8xE|  false|  Row(ytRating=None)|        hd|       2d| PT5M59S|           True|rectangular|         233|            0|     1468|   317202|\n",
      "|       15|UC4p_I9eiRewn2KoU...|otek3wJILsfL4GOiB...|youtube#video|vZfgHNVvwxs|  false|  Row(ytRating=None)|        hd|       2d|PT15M27S|           True|rectangular|         705|            0|     3131|   312107|\n",
      "|       16|UC4p_I9eiRewn2KoU...|aOjLW-4CubxLXV0ma...|youtube#video|0WdUHhXVQjY|  false|  Row(ytRating=None)|        hd|       2d|PT10M50S|           True|rectangular|         421|            0|      687|   302737|\n",
      "|       17|UC4p_I9eiRewn2KoU...|WsdrBE0pEF8xel5M1...|youtube#video|EwudxhOix3U|  false|  Row(ytRating=None)|        hd|       2d| PT2M45S|           True|rectangular|         262|            0|     2923|   293284|\n",
      "|       18|UC4p_I9eiRewn2KoU...|ReeINjgmhe4UuHfq7...|youtube#video|uoWN0Y-iE90|  false|  Row(ytRating=None)|        hd|       2d|PT15M34S|           True|rectangular|         542|            0|     1750|   285486|\n",
      "|       19|UC4p_I9eiRewn2KoU...|Mkd-hEk9oTuJopRoe...|youtube#video|9HWTMSaAv6w|  false|  Row(ytRating=None)|        hd|       2d|  PT5M4S|           True|rectangular|         266|            0|     3733|   279085|\n",
      "+---------+--------------------+--------------------+-------------+-----------+-------+--------------------+----------+---------+--------+---------------+-----------+------------+-------------+---------+---------+\n",
      "only showing top 20 rows\n",
      "\n"
     ]
    }
   ],
   "source": [
    "video.show()"
   ]
  },
  {
   "cell_type": "code",
   "execution_count": null,
   "metadata": {},
   "outputs": [],
   "source": [
    "# Q3. What is the trend for videos published by each channel over the last 12 months?\n",
    "# TODO: maye be itd topic details"
   ]
  },
  {
   "cell_type": "code",
   "execution_count": 48,
   "metadata": {},
   "outputs": [
    {
     "name": "stdout",
     "output_type": "stream",
     "text": [
      "+--------------------+--------------+\n",
      "|          channel_id|max(viewCount)|\n",
      "+--------------------+--------------+\n",
      "|UC4p_I9eiRewn2KoU...|       3655419|\n",
      "+--------------------+--------------+\n",
      "\n"
     ]
    }
   ],
   "source": [
    "# Q4. Which are the most viewed videos?\n",
    "video.groupBy('channel_id').max('viewCount').show()"
   ]
  }
 ],
 "metadata": {
  "kernelspec": {
   "display_name": "venv",
   "language": "python",
   "name": "python3"
  },
  "language_info": {
   "codemirror_mode": {
    "name": "ipython",
    "version": 3
   },
   "file_extension": ".py",
   "mimetype": "text/x-python",
   "name": "python",
   "nbconvert_exporter": "python",
   "pygments_lexer": "ipython3",
   "version": "3.10.10"
  }
 },
 "nbformat": 4,
 "nbformat_minor": 2
}
