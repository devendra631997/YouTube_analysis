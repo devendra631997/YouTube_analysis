{
 "cells": [
  {
   "cell_type": "code",
   "execution_count": 47,
   "metadata": {},
   "outputs": [],
   "source": [
    "#pip install pyspark"
   ]
  },
  {
   "cell_type": "code",
   "execution_count": 48,
   "metadata": {},
   "outputs": [],
   "source": [
    "\n",
    "from pyspark.sql import SparkSession\n",
    "from pyspark.sql.functions import udf,explode\n",
    "from pyspark.sql.functions import from_json, col, lit\n",
    "import os\n",
    "from pyspark.sql.types import StringType,BooleanType,DateType, IntegerType\n",
    "from dotenv import load_dotenv\n",
    "load_dotenv()\n",
    "spark=SparkSession.builder.appName(\"youTubeAnalysis\").getOrCreate()"
   ]
  },
  {
   "cell_type": "code",
   "execution_count": 49,
   "metadata": {},
   "outputs": [],
   "source": [
    "channel = spark.read.parquet('/Users/devendrakumarsingh/Documents/code/youtube_analysis/sample-data/output_data/channel_id', header=True)\n",
    "video = spark.read.parquet('/Users/devendrakumarsingh/Documents/code/youtube_analysis/sample-data/output_data/videos', header=True)\n",
    "video = video.withColumn(\"viewCount\",col(\"viewCount\").cast(IntegerType()))"
   ]
  },
  {
   "cell_type": "code",
   "execution_count": 50,
   "metadata": {},
   "outputs": [
    {
     "name": "stdout",
     "output_type": "stream",
     "text": [
      "+--------------------+--------------------+---------------+\n",
      "|                  id|               title|subscriberCount|\n",
      "+--------------------+--------------------+---------------+\n",
      "|UC4p_I9eiRewn2KoU...|   The Straits Times|         591000|\n",
      "|UC_WgSFSkn7112rmJ...|Berita Harian Sin...|           5010|\n",
      "|UC0GP1HDhGZTLih7B...|  The Business Times|          28100|\n",
      "|UCrbQxu0YkoVWu2dw...|            zaobaosg|         186000|\n",
      "|UCs0xZ60FSNxFxHPV...|        Tamil Murasu|           4870|\n",
      "+--------------------+--------------------+---------------+\n",
      "\n"
     ]
    }
   ],
   "source": [
    "# Q1. How many subscribers are there for each channel?\n",
    "channel.select(col('id'), col('title'), col('subscriberCount')).show()"
   ]
  },
  {
   "cell_type": "code",
   "execution_count": 51,
   "metadata": {},
   "outputs": [
    {
     "name": "stdout",
     "output_type": "stream",
     "text": [
      "+--------------------+--------------------+----------+\n",
      "|                  id|               title|videoCount|\n",
      "+--------------------+--------------------+----------+\n",
      "|UC4p_I9eiRewn2KoU...|   The Straits Times|     30494|\n",
      "|UC_WgSFSkn7112rmJ...|Berita Harian Sin...|       452|\n",
      "|UC0GP1HDhGZTLih7B...|  The Business Times|      1309|\n",
      "|UCrbQxu0YkoVWu2dw...|            zaobaosg|      5338|\n",
      "|UCs0xZ60FSNxFxHPV...|        Tamil Murasu|       472|\n",
      "+--------------------+--------------------+----------+\n",
      "\n"
     ]
    }
   ],
   "source": [
    "# Q2. How many video’s have been published for each channel?\n",
    "channel.select(col('id'), col('title'), col('videoCount')).show()"
   ]
  },
  {
   "cell_type": "code",
   "execution_count": 52,
   "metadata": {},
   "outputs": [],
   "source": [
    "# Q3. What is the trend for videos published by each channel over the last 12 months?\n",
    "# TODO: maye be itd topic details"
   ]
  },
  {
   "cell_type": "code",
   "execution_count": 53,
   "metadata": {},
   "outputs": [
    {
     "name": "stdout",
     "output_type": "stream",
     "text": [
      "+--------------------+--------------+\n",
      "|          channel_id|max(viewCount)|\n",
      "+--------------------+--------------+\n",
      "|UC4p_I9eiRewn2KoU...|       3656923|\n",
      "|UCrbQxu0YkoVWu2dw...|        887557|\n",
      "|UC_WgSFSkn7112rmJ...|        311575|\n",
      "|UC0GP1HDhGZTLih7B...|       1788070|\n",
      "|UCs0xZ60FSNxFxHPV...|        442381|\n",
      "+--------------------+--------------+\n",
      "\n"
     ]
    }
   ],
   "source": [
    "# Q4. Which are the most viewed videos?\n",
    "video.groupBy('channel_id').max('viewCount').show()"
   ]
  },
  {
   "cell_type": "code",
   "execution_count": 54,
   "metadata": {},
   "outputs": [
    {
     "name": "stdout",
     "output_type": "stream",
     "text": [
      "+--------------------+--------------------+-------------+-----------+-------+----------+---------+--------+---------------+-----------+------------+-------------+---------+---------+\n",
      "|          channel_id|                etag|         kind|         id|caption|definition|dimension|duration|licensedContent| projection|commentCount|favoriteCount|likeCount|viewCount|\n",
      "+--------------------+--------------------+-------------+-----------+-------+----------+---------+--------+---------------+-----------+------------+-------------+---------+---------+\n",
      "|UC4p_I9eiRewn2KoU...|5BXu42UxhLQRuU8-X...|youtube#video|rwoJuT76nb8|  false|        sd|       2d| PT3M27S|           true|rectangular|        2572|            0|    15197|  3656923|\n",
      "|UC4p_I9eiRewn2KoU...|yzQ3IEzSOZY-RtvJV...|youtube#video|8Tv3NSpnAP8|  false|        hd|       2d| PT1M49S|           true|rectangular|        1466|            0|     7575|  1332027|\n",
      "|UC4p_I9eiRewn2KoU...|-3pVjPXAHhY2aEsxW...|youtube#video|GNSCfAAq878|  false|        hd|       2d| PT2M55S|           true|rectangular|        1216|            0|    14258|  1069576|\n",
      "|UC4p_I9eiRewn2KoU...|O_Y1jINjcR1JKfCG4...|youtube#video|PDW1DHnhaCM|  false|        hd|       2d|PT10M22S|           true|rectangular|         838|            0|    14593|   955677|\n",
      "|UC4p_I9eiRewn2KoU...|38EFvJU3e132R9Z9z...|youtube#video|CcrcnKBCFuY|  false|        hd|       2d| PT3M42S|           true|rectangular|         462|            0|    10498|   810174|\n",
      "|UC4p_I9eiRewn2KoU...|RrpqYOzU3ouRBhTPg...|youtube#video|Lh87Y4Xs6xs|  false|        hd|       2d|PT11M53S|           true|rectangular|        1048|            0|     1700|   792131|\n",
      "|UC4p_I9eiRewn2KoU...|vgUjhpLo5YINmVxPp...|youtube#video|57HBTpEn7KQ|  false|        hd|       2d| PT3M44S|           true|rectangular|         407|            0|    12575|   458320|\n",
      "|UC4p_I9eiRewn2KoU...|1HedaWT2hP3K-g07k...|youtube#video|j7OMZfUOv_E|  false|        hd|       2d| PT2M43S|           true|rectangular|         388|            0|     2854|   442193|\n",
      "|UC4p_I9eiRewn2KoU...|UDPK7pocOw_k2S70W...|youtube#video|ZTPRJwXPoTw|  false|        hd|       2d|   PT28S|          false|rectangular|         708|            0|    11685|   441416|\n",
      "|UC4p_I9eiRewn2KoU...|bGLkK4oy8csfTrdQl...|youtube#video|uYmBk61rQWY|  false|        hd|       2d| PT3M54S|           true|rectangular|         700|            0|     1432|   433697|\n",
      "|UC4p_I9eiRewn2KoU...|xGfB23ilXg1kNf1oJ...|youtube#video|k4LMu7A9r_k|   true|        hd|       2d| PT8M34S|           true|rectangular|         206|            0|     5262|   411376|\n",
      "|UC4p_I9eiRewn2KoU...|pSgj6A62DdsxTrfKp...|youtube#video|KudrTHRl1XI|  false|        sd|       2d|   PT24S|           true|rectangular|         363|            0|      331|   379396|\n",
      "|UC4p_I9eiRewn2KoU...|dQSjkQQEddJuUKQKH...|youtube#video|KH-bqeaP_gs|  false|        hd|       2d|   PT59S|           true|rectangular|         609|            0|     8514|   357354|\n",
      "|UC4p_I9eiRewn2KoU...|G-FQPr5Guwd6c7YgG...|youtube#video|C2NEV6lW8xE|  false|        hd|       2d| PT5M59S|           true|rectangular|         233|            0|     1467|   317215|\n",
      "|UC4p_I9eiRewn2KoU...|Sxglt-S9EnQon5UyN...|youtube#video|vZfgHNVvwxs|  false|        hd|       2d|PT15M27S|           true|rectangular|         705|            0|     3132|   312156|\n",
      "|UC4p_I9eiRewn2KoU...|aOjLW-4CubxLXV0ma...|youtube#video|0WdUHhXVQjY|  false|        hd|       2d|PT10M50S|           true|rectangular|         421|            0|      687|   302737|\n",
      "|UC4p_I9eiRewn2KoU...|F1_DGU-Ddf-wEoAOb...|youtube#video|EwudxhOix3U|  false|        hd|       2d| PT2M45S|           true|rectangular|         262|            0|     2925|   293331|\n",
      "|UC4p_I9eiRewn2KoU...|ReeINjgmhe4UuHfq7...|youtube#video|uoWN0Y-iE90|  false|        hd|       2d|PT15M34S|           true|rectangular|         542|            0|     1750|   285486|\n",
      "|UC4p_I9eiRewn2KoU...|kTsGtBYt9irqbu7Kw...|youtube#video|9HWTMSaAv6w|  false|        hd|       2d|  PT5M4S|           true|rectangular|         266|            0|     3734|   279095|\n",
      "|UC4p_I9eiRewn2KoU...|Z3UNZcIEBfP_w6Evf...|youtube#video|m3kbKNENfvU|   true|        hd|       2d|  PT2M4S|           true|rectangular|         115|            0|      434|   274935|\n",
      "+--------------------+--------------------+-------------+-----------+-------+----------+---------+--------+---------------+-----------+------------+-------------+---------+---------+\n",
      "only showing top 20 rows\n",
      "\n"
     ]
    }
   ],
   "source": [
    "video.show()"
   ]
  },
  {
   "cell_type": "code",
   "execution_count": null,
   "metadata": {},
   "outputs": [],
   "source": []
  }
 ],
 "metadata": {
  "kernelspec": {
   "display_name": "venv",
   "language": "python",
   "name": "python3"
  },
  "language_info": {
   "codemirror_mode": {
    "name": "ipython",
    "version": 3
   },
   "file_extension": ".py",
   "mimetype": "text/x-python",
   "name": "python",
   "nbconvert_exporter": "python",
   "pygments_lexer": "ipython3",
   "version": "3.10.10"
  }
 },
 "nbformat": 4,
 "nbformat_minor": 2
}
