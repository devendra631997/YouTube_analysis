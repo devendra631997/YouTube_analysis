{
 "cells": [
  {
   "cell_type": "code",
   "execution_count": 1,
   "metadata": {},
   "outputs": [
    {
     "name": "stdout",
     "output_type": "stream",
     "text": [
      "Requirement already satisfied: pyspark in /Users/devendrakumarsingh/Documents/code/youtube_analysis/venv/lib/python3.10/site-packages (3.5.2)\n",
      "Requirement already satisfied: py4j==0.10.9.7 in /Users/devendrakumarsingh/Documents/code/youtube_analysis/venv/lib/python3.10/site-packages (from pyspark) (0.10.9.7)\n",
      "\n",
      "\u001b[1m[\u001b[0m\u001b[34;49mnotice\u001b[0m\u001b[1;39;49m]\u001b[0m\u001b[39;49m A new release of pip available: \u001b[0m\u001b[31;49m22.3.1\u001b[0m\u001b[39;49m -> \u001b[0m\u001b[32;49m24.2\u001b[0m\n",
      "\u001b[1m[\u001b[0m\u001b[34;49mnotice\u001b[0m\u001b[1;39;49m]\u001b[0m\u001b[39;49m To update, run: \u001b[0m\u001b[32;49mpip install --upgrade pip\u001b[0m\n",
      "Note: you may need to restart the kernel to use updated packages.\n"
     ]
    }
   ],
   "source": [
    "#pip install pyspark"
   ]
  },
  {
   "cell_type": "code",
   "execution_count": 52,
   "metadata": {},
   "outputs": [],
   "source": [
    "\n",
    "from pyspark.sql import SparkSession\n",
    "from pyspark.sql.functions import udf,explode\n",
    "from pyspark.sql.functions import from_json, col, lit\n",
    "import os\n",
    "from pyspark.sql.types import StringType,BooleanType,DateType, IntegerType\n",
    "from dotenv import load_dotenv\n",
    "load_dotenv()\n",
    "spark=SparkSession.builder.appName(\"youTubeAnalysis\").getOrCreate()"
   ]
  },
  {
   "cell_type": "code",
   "execution_count": 53,
   "metadata": {},
   "outputs": [],
   "source": [
    "channel = spark.read.csv('/Users/devendrakumarsingh/Documents/code/youtube_analysis/sample-data/output_data/channel_id', header=True)\n",
    "video = spark.read.csv('/Users/devendrakumarsingh/Documents/code/youtube_analysis/sample-data/output_data/videos', header=True)\n",
    "video = video.withColumn(\"viewCount\",col(\"viewCount\").cast(IntegerType()))"
   ]
  },
  {
   "cell_type": "code",
   "execution_count": 54,
   "metadata": {},
   "outputs": [
    {
     "name": "stdout",
     "output_type": "stream",
     "text": [
      "+-----------------+---------------+\n",
      "|            title|subscriberCount|\n",
      "+-----------------+---------------+\n",
      "|The Straits Times|         591000|\n",
      "+-----------------+---------------+\n",
      "\n"
     ]
    }
   ],
   "source": [
    "# Q1. How many subscribers are there for each channel?\n",
    "channel.select( col('title'), col('subscriberCount')).show()"
   ]
  },
  {
   "cell_type": "code",
   "execution_count": 55,
   "metadata": {},
   "outputs": [
    {
     "name": "stdout",
     "output_type": "stream",
     "text": [
      "+-----------------+----------+\n",
      "|            title|videoCount|\n",
      "+-----------------+----------+\n",
      "|The Straits Times|     30489|\n",
      "+-----------------+----------+\n",
      "\n"
     ]
    }
   ],
   "source": [
    "# Q2. How many video’s have been published for each channel?\n",
    "channel.select( col('title'), col('videoCount')).show()"
   ]
  },
  {
   "cell_type": "code",
   "execution_count": 56,
   "metadata": {},
   "outputs": [],
   "source": [
    "# Q3. What is the trend for videos published by each channel over the last 12 months?\n",
    "# TODO: maye be itd topic details"
   ]
  },
  {
   "cell_type": "code",
   "execution_count": 57,
   "metadata": {},
   "outputs": [
    {
     "name": "stdout",
     "output_type": "stream",
     "text": [
      "+--------------------+--------------+\n",
      "|          channel_id|max(viewCount)|\n",
      "+--------------------+--------------+\n",
      "|UC4p_I9eiRewn2KoU...|       3655419|\n",
      "+--------------------+--------------+\n",
      "\n"
     ]
    }
   ],
   "source": [
    "# Q4. Which are the most viewed videos?\n",
    "video.groupBy('channel_id').max('viewCount').show()"
   ]
  }
 ],
 "metadata": {
  "kernelspec": {
   "display_name": "venv",
   "language": "python",
   "name": "python3"
  },
  "language_info": {
   "codemirror_mode": {
    "name": "ipython",
    "version": 3
   },
   "file_extension": ".py",
   "mimetype": "text/x-python",
   "name": "python",
   "nbconvert_exporter": "python",
   "pygments_lexer": "ipython3",
   "version": "3.10.10"
  }
 },
 "nbformat": 4,
 "nbformat_minor": 2
}
