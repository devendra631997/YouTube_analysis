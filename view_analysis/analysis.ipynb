{
 "cells": [
  {
   "cell_type": "code",
   "execution_count": 1,
   "metadata": {},
   "outputs": [],
   "source": [
    "#pip install pyspark"
   ]
  },
  {
   "cell_type": "code",
   "execution_count": 2,
   "metadata": {},
   "outputs": [
    {
     "name": "stderr",
     "output_type": "stream",
     "text": [
      "24/08/17 10:46:29 WARN Utils: Your hostname, Devendras-MacBook-Pro.local resolves to a loopback address: 127.0.0.1; using 192.168.1.106 instead (on interface en0)\n",
      "24/08/17 10:46:29 WARN Utils: Set SPARK_LOCAL_IP if you need to bind to another address\n",
      "Setting default log level to \"WARN\".\n",
      "To adjust logging level use sc.setLogLevel(newLevel). For SparkR, use setLogLevel(newLevel).\n",
      "24/08/17 10:46:29 WARN NativeCodeLoader: Unable to load native-hadoop library for your platform... using builtin-java classes where applicable\n"
     ]
    }
   ],
   "source": [
    "\n",
    "from pyspark.sql import SparkSession\n",
    "from pyspark.sql.functions import udf,explode\n",
    "from pyspark.sql.functions import from_json, col, lit\n",
    "import os\n",
    "from pyspark.sql.types import StringType,BooleanType,DateType, IntegerType\n",
    "from dotenv import load_dotenv\n",
    "load_dotenv()\n",
    "spark=SparkSession.builder.appName(\"youTubeAnalysis\").getOrCreate()"
   ]
  },
  {
   "cell_type": "code",
   "execution_count": 3,
   "metadata": {},
   "outputs": [
    {
     "name": "stderr",
     "output_type": "stream",
     "text": [
      "                                                                                \r"
     ]
    }
   ],
   "source": [
    "channel = spark.read.parquet('/Users/devendrakumarsingh/Documents/code/youtube_analysis/sample-data/output_data/channel_id', header=True)\n",
    "video = spark.read.parquet('/Users/devendrakumarsingh/Documents/code/youtube_analysis/sample-data/output_data/videos', header=True)\n",
    "video = video.withColumn(\"viewCount\",col(\"viewCount\").cast(IntegerType()))"
   ]
  },
  {
   "cell_type": "code",
   "execution_count": 4,
   "metadata": {},
   "outputs": [
    {
     "name": "stderr",
     "output_type": "stream",
     "text": [
      "                                                                                \r"
     ]
    },
    {
     "name": "stdout",
     "output_type": "stream",
     "text": [
      "+--------------------+--------------------+---------------+\n",
      "|                  id|               title|subscriberCount|\n",
      "+--------------------+--------------------+---------------+\n",
      "|UC4p_I9eiRewn2KoU...|   The Straits Times|         591000|\n",
      "|UC_WgSFSkn7112rmJ...|Berita Harian Sin...|           5010|\n",
      "|UC0GP1HDhGZTLih7B...|  The Business Times|          28100|\n",
      "|UCrbQxu0YkoVWu2dw...|            zaobaosg|         187000|\n",
      "|UCs0xZ60FSNxFxHPV...|        Tamil Murasu|           4870|\n",
      "+--------------------+--------------------+---------------+\n",
      "\n"
     ]
    }
   ],
   "source": [
    "# Q1. How many subscribers are there for each channel?\n",
    "channel.select(col('id'), col('title'), col('subscriberCount')).show()"
   ]
  },
  {
   "cell_type": "code",
   "execution_count": 5,
   "metadata": {},
   "outputs": [
    {
     "name": "stdout",
     "output_type": "stream",
     "text": [
      "+--------------------+--------------------+----------+\n",
      "|                  id|               title|videoCount|\n",
      "+--------------------+--------------------+----------+\n",
      "|UC4p_I9eiRewn2KoU...|   The Straits Times|     30494|\n",
      "|UC_WgSFSkn7112rmJ...|Berita Harian Sin...|       452|\n",
      "|UC0GP1HDhGZTLih7B...|  The Business Times|      1309|\n",
      "|UCrbQxu0YkoVWu2dw...|            zaobaosg|      5339|\n",
      "|UCs0xZ60FSNxFxHPV...|        Tamil Murasu|       472|\n",
      "+--------------------+--------------------+----------+\n",
      "\n"
     ]
    }
   ],
   "source": [
    "# Q2. How many video’s have been published for each channel?\n",
    "channel.select(col('id'), col('title'), col('videoCount')).show()"
   ]
  },
  {
   "cell_type": "code",
   "execution_count": 6,
   "metadata": {},
   "outputs": [],
   "source": [
    "# Q3. What is the trend for videos published by each channel over the last 12 months?\n",
    "# TODO: maye be itd topic details"
   ]
  },
  {
   "cell_type": "code",
   "execution_count": 7,
   "metadata": {},
   "outputs": [
    {
     "name": "stderr",
     "output_type": "stream",
     "text": [
      "[Stage 6:>                                                          (0 + 5) / 5]\r"
     ]
    },
    {
     "name": "stdout",
     "output_type": "stream",
     "text": [
      "+--------------------+--------------+\n",
      "|          channel_id|max(viewCount)|\n",
      "+--------------------+--------------+\n",
      "|UC4p_I9eiRewn2KoU...|       3657284|\n",
      "|UCrbQxu0YkoVWu2dw...|        887697|\n",
      "|UC0GP1HDhGZTLih7B...|       1790074|\n",
      "|UC_WgSFSkn7112rmJ...|        311576|\n",
      "|UCs0xZ60FSNxFxHPV...|        442387|\n",
      "+--------------------+--------------+\n",
      "\n"
     ]
    },
    {
     "name": "stderr",
     "output_type": "stream",
     "text": [
      "                                                                                \r"
     ]
    }
   ],
   "source": [
    "# Q4. Which are the most viewed videos?\n",
    "video.groupBy('channel_id').max('viewCount').show()"
   ]
  },
  {
   "cell_type": "code",
   "execution_count": 8,
   "metadata": {},
   "outputs": [
    {
     "name": "stdout",
     "output_type": "stream",
     "text": [
      "+--------------------+--------------------+-------------+-----------+-------+----------+---------+--------+---------------+-----------+------------+-------------+---------+---------+\n",
      "|          channel_id|                etag|         kind|         id|caption|definition|dimension|duration|licensedContent| projection|commentCount|favoriteCount|likeCount|viewCount|\n",
      "+--------------------+--------------------+-------------+-----------+-------+----------+---------+--------+---------------+-----------+------------+-------------+---------+---------+\n",
      "|UC4p_I9eiRewn2KoU...|3aluyvxzWQDrBqtch...|youtube#video|rwoJuT76nb8|  false|        sd|       2d| PT3M27S|           true|rectangular|        2572|            0|    15198|  3657284|\n",
      "|UC4p_I9eiRewn2KoU...|d5IOIB6XTP6JdAQ7X...|youtube#video|wg1iNV6ZTGE|  false|        hd|       2d| PT6M19S|           true|rectangular|        5111|            0|    63013|  2759590|\n",
      "|UC4p_I9eiRewn2KoU...|yzQ3IEzSOZY-RtvJV...|youtube#video|8Tv3NSpnAP8|  false|        hd|       2d| PT1M49S|           true|rectangular|        1466|            0|     7575|  1332027|\n",
      "|UC4p_I9eiRewn2KoU...|4QFLwBk14js503k8d...|youtube#video|PDW1DHnhaCM|  false|        hd|       2d|PT10M22S|           true|rectangular|         838|            0|    14594|   955855|\n",
      "|UC4p_I9eiRewn2KoU...|a-_xGBiQ10-fb5-6J...|youtube#video|Lh87Y4Xs6xs|  false|        hd|       2d|PT11M53S|           true|rectangular|        1048|            0|     1700|   792132|\n",
      "|UC4p_I9eiRewn2KoU...|Wknn23fit4MX_nAQF...|youtube#video|F85nXuUXs8Y|  false|        hd|       2d|PT10M16S|           true|rectangular|        2456|            0|    11288|   549455|\n",
      "|UC4p_I9eiRewn2KoU...|sVr4SGrBuCOc7F8mf...|youtube#video|YSiRRMRhUSo|  false|        hd|       2d| PT4M51S|           true|rectangular|        1298|            0|     3756|   521618|\n",
      "|UC4p_I9eiRewn2KoU...|lXxi9Tqv9Zcq-7YhR...|youtube#video|57HBTpEn7KQ|  false|        hd|       2d| PT3M44S|           true|rectangular|         407|            0|    12574|   458331|\n",
      "|UC4p_I9eiRewn2KoU...|SMoRwAsU0i4Mm1Mt7...|youtube#video|j7OMZfUOv_E|  false|        hd|       2d| PT2M43S|           true|rectangular|         388|            0|     2854|   442197|\n",
      "|UC4p_I9eiRewn2KoU...|bGLkK4oy8csfTrdQl...|youtube#video|uYmBk61rQWY|  false|        hd|       2d| PT3M54S|           true|rectangular|         700|            0|     1432|   433697|\n",
      "|UC4p_I9eiRewn2KoU...|_BR33fc1O4hA3Raeb...|youtube#video|k4LMu7A9r_k|   true|        hd|       2d| PT8M34S|           true|rectangular|         206|            0|     5262|   411445|\n",
      "|UC4p_I9eiRewn2KoU...|T_Xkg9DL5ELokBcss...|youtube#video|KudrTHRl1XI|  false|        sd|       2d|   PT24S|           true|rectangular|         363|            0|      331|   379399|\n",
      "|UC4p_I9eiRewn2KoU...|gPvK8TdSNjWw_alRu...|youtube#video|KH-bqeaP_gs|  false|        hd|       2d|   PT59S|           true|rectangular|         609|            0|     8514|   357361|\n",
      "|UC4p_I9eiRewn2KoU...|0lX_mB4FnVcj6_1As...|youtube#video|C2NEV6lW8xE|  false|        hd|       2d| PT5M59S|           true|rectangular|         233|            0|     1467|   317218|\n",
      "|UC4p_I9eiRewn2KoU...|fHczVMZwFmRAXRHWn...|youtube#video|vZfgHNVvwxs|  false|        hd|       2d|PT15M27S|           true|rectangular|         705|            0|     3132|   312175|\n",
      "|UC4p_I9eiRewn2KoU...|aOjLW-4CubxLXV0ma...|youtube#video|0WdUHhXVQjY|  false|        hd|       2d|PT10M50S|           true|rectangular|         421|            0|      687|   302737|\n",
      "|UC4p_I9eiRewn2KoU...|xpPyFBQpch1_c_iOp...|youtube#video|EwudxhOix3U|  false|        hd|       2d| PT2M45S|           true|rectangular|         262|            0|     2925|   293352|\n",
      "|UC4p_I9eiRewn2KoU...|ReeINjgmhe4UuHfq7...|youtube#video|uoWN0Y-iE90|  false|        hd|       2d|PT15M34S|           true|rectangular|         542|            0|     1750|   285486|\n",
      "|UC4p_I9eiRewn2KoU...|62UeaUfDp-dKNKfh9...|youtube#video|9HWTMSaAv6w|  false|        hd|       2d|  PT5M4S|           true|rectangular|         266|            0|     3734|   279100|\n",
      "|UC4p_I9eiRewn2KoU...|FB2sunc6cT8taSjla...|youtube#video|m3kbKNENfvU|   true|        hd|       2d|  PT2M4S|           true|rectangular|         115|            0|      434|   274943|\n",
      "+--------------------+--------------------+-------------+-----------+-------+----------+---------+--------+---------------+-----------+------------+-------------+---------+---------+\n",
      "only showing top 20 rows\n",
      "\n"
     ]
    }
   ],
   "source": [
    "video.show()"
   ]
  },
  {
   "cell_type": "code",
   "execution_count": null,
   "metadata": {},
   "outputs": [],
   "source": []
  }
 ],
 "metadata": {
  "kernelspec": {
   "display_name": "venv",
   "language": "python",
   "name": "python3"
  },
  "language_info": {
   "codemirror_mode": {
    "name": "ipython",
    "version": 3
   },
   "file_extension": ".py",
   "mimetype": "text/x-python",
   "name": "python",
   "nbconvert_exporter": "python",
   "pygments_lexer": "ipython3",
   "version": "3.10.10"
  }
 },
 "nbformat": 4,
 "nbformat_minor": 2
}
